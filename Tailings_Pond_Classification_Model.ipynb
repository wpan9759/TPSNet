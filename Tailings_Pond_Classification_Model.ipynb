{
 "cells": [
  {
   "cell_type": "markdown",
   "metadata": {},
   "source": [
    "# Example of the `aitlas` toolbox in the context of multi class image classification\n",
    "\n",
    "This notebook shows a sample implementation of a multi class image classification using the `aitlas` toolbox using the UC merced dataset."
   ]
  },
  {
   "cell_type": "code",
   "execution_count": null,
   "metadata": {},
   "outputs": [],
   "source": [
    "from aitlas.datasets import UcMercedDataset\n",
    "from aitlas.models import ResNet50\n",
    "from aitlas.transforms import ResizeCenterCropFlipHVToTensor, ResizeCenterCropToTensor\n",
    "from aitlas.utils import image_loader"
   ]
  },
  {
   "cell_type": "markdown",
   "metadata": {},
   "source": [
    "## Load the dataset"
   ]
  },
  {
   "cell_type": "code",
   "execution_count": null,
   "metadata": {},
   "outputs": [],
   "source": [
    "dataset_config = {\n",
    "    \"data_dir\": \"G:/1.pond/3.pond_chengde/11.sc/aitlas-master/media/hdd/multi-class/tailing_dataset_nrg\",\n",
    "    \"csv_file\": \"G:/1.pond/3.pond_chengde/11.sc/aitlas-master/media/hdd/multi-class/tailing_dataset_nrg/train.csv\"\n",
    "}\n",
    "dataset = UcMercedDataset(dataset_config)"
   ]
  },
  {
   "cell_type": "markdown",
   "metadata": {},
   "source": [
    "## Show images from the dataset"
   ]
  },
  {
   "cell_type": "code",
   "execution_count": null,
   "metadata": {},
   "outputs": [],
   "source": [
    "fig1 = dataset.show_image(1000)\n",
    "fig2 = dataset.show_image(80)\n",
    "fig3 = dataset.show_batch(15)"
   ]
  },
  {
   "cell_type": "markdown",
   "metadata": {},
   "source": [
    "## Inspect the data"
   ]
  },
  {
   "cell_type": "code",
   "execution_count": null,
   "metadata": {},
   "outputs": [],
   "source": [
    "dataset.show_samples()"
   ]
  },
  {
   "cell_type": "code",
   "execution_count": null,
   "metadata": {},
   "outputs": [],
   "source": [
    "dataset.data_distribution_table()"
   ]
  },
  {
   "cell_type": "code",
   "execution_count": null,
   "metadata": {},
   "outputs": [],
   "source": [
    "fig = dataset.data_distribution_barchart()"
   ]
  },
  {
   "cell_type": "markdown",
   "metadata": {},
   "source": [
    "## Load train and val "
   ]
  },
  {
   "cell_type": "code",
   "execution_count": null,
   "metadata": {},
   "outputs": [],
   "source": [
    "train_dataset_config = {\n",
    "    \"batch_size\": 16,\n",
    "    \"shuffle\": True,\n",
    "    \"num_workers\": 4,\n",
    "    \"data_dir\": \"G:/1.pond/3.pond_chengde/11.sc/aitlas-master/media/hdd/multi-class/tailing_dataset_nrg\",\n",
    "    \"csv_file\": \"G:/1.pond/3.pond_chengde/11.sc/aitlas-master/media/hdd/multi-class/tailing_dataset_nrg/train.csv\"\n",
    "}\n",
    "\n",
    "train_dataset = UcMercedDataset(train_dataset_config)\n",
    "train_dataset.transform = ResizeCenterCropFlipHVToTensor() \n",
    "\n",
    "val_dataset_config = {\n",
    "    \"batch_size\": 4,\n",
    "    \"shuffle\": False,\n",
    "    \"num_workers\": 4,\n",
    "    \"data_dir\": \"G:/1.pond/3.pond_chengde/11.sc/aitlas-master/media/hdd/multi-class/tailing_dataset_nrg\",\n",
    "    \"csv_file\": \"G:/1.pond/3.pond_chengde/11.sc/aitlas-master/media/hdd/multi-class/tailing_dataset_nrg/val.csv\",\n",
    "    \"transforms\": [\"aitlas.transforms.ResizeCenterCropToTensor\"]\n",
    "}\n",
    "\n",
    "val_dataset = UcMercedDataset(val_dataset_config)\n",
    "len(train_dataset), len(val_dataset)"
   ]
  },
  {
   "cell_type": "markdown",
   "metadata": {},
   "source": [
    "## Setup and create the model for training"
   ]
  },
  {
   "cell_type": "code",
   "execution_count": null,
   "metadata": {},
   "outputs": [],
   "source": [
    "epochs = 100\n",
    "model_directory = \"G:/1.pond/3.pond_chengde/11.sc/aitlas-master/media/hdd/multi-class/experiment/nrg\"\n",
    "model_config = {\n",
    "    \"num_classes\": 2, \n",
    "    \"learning_rate\": 0.0001,\n",
    "    \"pretrained\": True,\n",
    "    \"metrics\": [\"accuracy\", \"precision\", \"recall\", \"f1_score\"]\n",
    "}\n",
    "model = ResNet50(model_config)\n",
    "model.prepare()"
   ]
  },
  {
   "cell_type": "markdown",
   "metadata": {},
   "source": [
    "## Training and evaluation"
   ]
  },
  {
   "cell_type": "code",
   "execution_count": null,
   "metadata": {},
   "outputs": [],
   "source": [
    "model.train_and_evaluate_model(\n",
    "    train_dataset=train_dataset,\n",
    "    epochs=epochs,\n",
    "    model_directory=model_directory,\n",
    "    val_dataset=val_dataset,\n",
    "    run_id='1',\n",
    ")"
   ]
  },
  {
   "cell_type": "markdown",
   "metadata": {},
   "source": [
    "## Predictions"
   ]
  },
  {
   "cell_type": "code",
   "execution_count": null,
   "metadata": {},
   "outputs": [],
   "source": [
    "model_path = \"F:/2.tailing/11.sc/aitlas-master/media/hdd/multi-class/experiment/1/best_checkpoint_1700319155_13.pth.tar\"\n",
    "#labels = UcMercedDataset.labels\n",
    "labels = [\"background\", \"tailing\",]\n",
    "transform = ResizeCenterCropToTensor()\n",
    "model.load_model(model_path)\n",
    "\n",
    "image = image_loader('F:/2.tailing/11.sc/aitlas-master/media/hdd/multi-class/tailing_dataset/tailing/sentinel_cut_C011R010.tif')\n",
    "fig, pred = model.predict_image(image, labels, transform)\n",
    "print(pred)\n",
    "\n",
    "image = image_loader('F:/2.tailing/11.sc/aitlas-master/media/hdd/multi-class/tailing_dataset/tailing/sentinel_cut_C008R019.tif')\n",
    "fig, pred = model.predict_image(image, labels, transform)\n",
    "print(pred)\n",
    "\n",
    "image = image_loader('F:/2.tailing/11.sc/aitlas-master/media/hdd/multi-class/tailing_dataset/tailing/sentinel_cut_C012R020.tif')\n",
    "fig, pred = model.predict_image(image, labels, transform)\n",
    "print(pred)\n",
    "\n",
    "image = image_loader('F:/2.tailing/11.sc/aitlas-master/media/hdd/multi-class/tailing_dataset/tailing/sentinel_cut_C020R015.tif')\n",
    "fig, pred = model.predict_image(image, labels, transform)\n",
    "print(pred)"
   ]
  },
  {
   "cell_type": "code",
   "execution_count": null,
   "metadata": {},
   "outputs": [],
   "source": [
    "import torch\n",
    "import os\n",
    "from tqdm import tqdm\n",
    "model_path = \"G:/1.pond/3.pond_chengde/11.sc/aitlas-master/media/hdd/multi-class/experiment/nrg/1/best_checkpoint_1700706198_15.pth.tar\"\n",
    "#labels = UcMercedDataset.labels\n",
    "labels = [\"background\", \"tailing\",]\n",
    "transform = ResizeCenterCropToTensor()\n",
    "model.load_model(model_path)\n",
    "\n",
    "data_folder = 'F:/20240128-EveryThing/3.MultiSourceTailing/tu12/1.sentinel2_patch/images'\n",
    "output_background_file = 'F:/20240128-EveryThing/3.MultiSourceTailing/tu12/background-nrg.txt'\n",
    "output_tailing_file = 'F:/20240128-EveryThing/3.MultiSourceTailing/tu12/tailing-nrg.txt'\n",
    "\n",
    "tif_files = [f for f in os.listdir(data_folder) if f.endswith('.tif')]\n",
    "\n",
    "with open(output_background_file, 'w') as background_file, open(output_tailing_file, 'w') as tailing_file:\n",
    "    # Iterate over each TIF file\n",
    "    for tif_file in tqdm(tif_files):\n",
    "        # Load the image\n",
    "        \n",
    "        image_path = os.path.join(data_folder, tif_file)\n",
    "        image = image_loader(image_path)\n",
    "        pred = model.predict_image(image, labels, transform)\n",
    "        if torch.equal(pred, torch.tensor([[0]], device='cuda:0')):\n",
    "            background_file.write(tif_file + '\\n')\n",
    "        elif torch.equal(pred, torch.tensor([[1]], device='cuda:0')):\n",
    "            tailing_file.write(tif_file + '\\n')"
   ]
  },
  {
   "cell_type": "markdown",
   "metadata": {},
   "source": [
    "evaluate"
   ]
  },
  {
   "cell_type": "code",
   "execution_count": null,
   "metadata": {},
   "outputs": [],
   "source": [
    "#测试集\n",
    "test_dataset_config = {\n",
    "    \"batch_size\": 4,\n",
    "    \"shuffle\": False,\n",
    "    \"num_workers\": 4,\n",
    "    \"data_dir\": \"F:/2.tailing/11.sc/aitlas-master/media/hdd/multi-class/tailing_dataset_nrg\",\n",
    "    \"csv_file\": \"F:/2.tailing/11.sc/aitlas-master/media/hdd/multi-class/tailing_dataset_nrg/val.csv\",\n",
    "    \"transforms\": [\"aitlas.transforms.ResizeCenterCropToTensor\"]\n",
    "}\n",
    "\n",
    "test_dataset = UcMercedDataset(test_dataset_config)\n"
   ]
  },
  {
   "cell_type": "code",
   "execution_count": null,
   "metadata": {},
   "outputs": [],
   "source": [
    "model_path = \"F:/2.tailing/11.sc/aitlas-master/media/hdd/multi-class/experiment/nrg/1/best_checkpoint_1700706198_15.pth.tar\"\n",
    "model.metrics = [\"accuracy\", \"precision\", \"recall\", \"f1_score\"]\n",
    "model.running_metrics.reset()\n",
    "model.evaluate(dataset=test_dataset, model_path=model_path)\n",
    "print(model.running_metrics.get_scores(model.metrics))"
   ]
  },
  {
   "cell_type": "code",
   "execution_count": null,
   "metadata": {},
   "outputs": [],
   "source": []
  }
 ],
 "metadata": {
  "kernelspec": {
   "display_name": "Python 3 (ipykernel)",
   "language": "python",
   "name": "python3"
  },
  "language_info": {
   "codemirror_mode": {
    "name": "ipython",
    "version": 3
   },
   "file_extension": ".py",
   "mimetype": "text/x-python",
   "name": "python",
   "nbconvert_exporter": "python",
   "pygments_lexer": "ipython3",
   "version": "3.8.19"
  }
 },
 "nbformat": 4,
 "nbformat_minor": 4
}
